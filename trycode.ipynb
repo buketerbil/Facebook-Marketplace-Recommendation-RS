{
 "cells": [
  {
   "cell_type": "code",
   "execution_count": 1,
   "metadata": {},
   "outputs": [],
   "source": [
    "import pandas as pd\n",
    "import torch\n",
    "from glob import glob\n",
    "import cv2\n",
    "from PIL import Image\n",
    "from numpy import asarray\n",
    "from torch.utils.data import Dataset\n",
    "from torch.utils.data import DataLoader\n",
    "from torch.utils.tensorboard import SummaryWriter\n",
    "import torch.nn as nn\n",
    "import torch.nn.functional as F\n",
    "\n",
    "\n"
   ]
  },
  {
   "cell_type": "code",
   "execution_count": 2,
   "metadata": {},
   "outputs": [
    {
     "name": "stderr",
     "output_type": "stream",
     "text": [
      "/opt/miniconda3/lib/python3.9/site-packages/torch/utils/data/_utils/collate.py:149: UserWarning: The given NumPy array is not writable, and PyTorch does not support non-writable tensors. This means writing to this tensor will result in undefined behavior. You may want to copy the array to protect its data or make it writable before converting it to a tensor. This type of warning will be suppressed for the rest of this program. (Triggered internally at  /Users/runner/work/pytorch/pytorch/pytorch/torch/csrc/utils/tensor_numpy.cpp:178.)\n",
      "  return default_collate([torch.as_tensor(b) for b in batch])\n"
     ]
    }
   ],
   "source": [
    "\n",
    "\n",
    "def  from_path_to_feature(path):\n",
    "    image = Image.open(path)\n",
    "    data = asarray(image)\n",
    "    return data.reshape(-1)\n",
    "    \n",
    "\n",
    "\n",
    "class ResizedDataset(Dataset):\n",
    "    def __init__(self):\n",
    "        super().__init__()\n",
    "        self.df = self.get_data()\n",
    "        self.label_dict = {}\n",
    "\n",
    "    def get_data(self):\n",
    "\n",
    "        dframe = pd.read_csv(\"/Users/macbook/Downloads/Products.csv\", index_col=0).dropna().rename(columns={'id': 'product_id'})\n",
    "        images_df = pd.read_csv(\"/Users/macbook/Downloads/Images.csv\", index_col=0)\n",
    "\n",
    "        merged_df = dframe.merge(images_df, on='product_id')\n",
    "\n",
    "        image_data_df = pd.DataFrame({'path': glob('/Users/macbook/Downloads/resized_images/*.jpg')})\n",
    "\n",
    "        image_data_df['id'] = image_data_df.path.str.split('/').str[-1].str.replace('.jpg', '', regex=False)\n",
    "\n",
    "        image_data_df = image_data_df.merge(merged_df[['category', 'id']], on='id')\n",
    "\n",
    "        image_data_df['category'] = image_data_df.category.str.split('/').str[0]\n",
    "\n",
    "        return image_data_df\n",
    "\n",
    "    def __getitem__(self, index):\n",
    "        img = self.df.iloc[index]\n",
    "        feature = from_path_to_feature(img.path)\n",
    "\n",
    "        if img.category not in self.label_dict:\n",
    "            self.label_dict[img.category] = len(self.label_dict) + 1\n",
    "\n",
    "        label = self.label_dict[img.category]\n",
    "\n",
    "        return (feature, label)\n",
    "        \n",
    "    def __len__(self):\n",
    "        return len(self.df)\n",
    "\n",
    "\n",
    "'''\n",
    "for batch in imagedsloader:\n",
    "    print(batch)\n",
    "    break'''\n",
    "\n",
    "# print(torchdset.label_dict)\n",
    "\n",
    "\n",
    "torchdset = ResizedDataset()\n",
    "imagedsloader = DataLoader(torchdset, batch_size=10, shuffle=True)\n",
    "\n",
    "example = next(iter(imagedsloader))\n",
    "torchdset.feature, torchdset.label = example\n"
   ]
  },
  {
   "cell_type": "code",
   "execution_count": 4,
   "metadata": {},
   "outputs": [
    {
     "name": "stdout",
     "output_type": "stream",
     "text": [
      "[tensor([[  0,   0,   0,  ...,   0,   0,   0],\n",
      "        [  0,   0,   0,  ...,   0,   0,   0],\n",
      "        [  0,   0,   0,  ...,   0,   0,   0],\n",
      "        ...,\n",
      "        [204, 158, 135,  ..., 233, 226, 218],\n",
      "        [  0,   0,   0,  ...,   0,   0,   0],\n",
      "        [  0,   0,   0,  ...,   0,   0,   0]], dtype=torch.uint8), tensor([ 6,  6,  7,  8,  4,  9, 10,  3, 11,  6])]\n",
      "tensor([1, 2, 3, 4, 1, 5, 1, 5, 6, 2])\n"
     ]
    }
   ],
   "source": [
    "for batch in imagedsloader:\n",
    "    print(batch)\n",
    "    break\n",
    "\n",
    "print(torchdset.label)\n"
   ]
  },
  {
   "cell_type": "code",
   "execution_count": 5,
   "metadata": {},
   "outputs": [],
   "source": [
    "def train(model, epochs=10):\n",
    "    optimiser = torch.optim.SGD(model.parameters(), lr=0.001)\n",
    "\n",
    "    writer = SummaryWriter()\n",
    "    batch_idx = 0\n",
    "\n",
    "    for epoch in range(epochs):\n",
    "        for batch in imagedsloader:\n",
    "            feature, label = batch\n",
    "            prediction = model(feature)\n",
    "            loss = F.cross_entropy(prediction, label)\n",
    "            loss.backward()\n",
    "            print(loss.item())\n",
    "            optimiser.step()\n",
    "            optimiser.zero_grad()\n",
    "            writer.add_scalar('Loss', loss.item(), batch_idx)\n",
    "            batch += 1\n",
    "\n",
    "\n",
    "class CNN(torch.nn.Module):\n",
    "    def __init__(self):\n",
    "        super().__init__()\n",
    "        self.layers = torch.nn.Sequential(\n",
    "            torch.nn.Conv2d(3, 20, 5),\n",
    "            torch.nn.ReLU(),\n",
    "            torch.nn.Conv2d(20, 10, 5),\n",
    "            torch.nn.Flatten(),\n",
    "            torch.nn.Linear(10 * 5 * 5, 150),\n",
    "            torch.nn.ReLU(),\n",
    "            torch.nn.Linear(150, 9),\n",
    "            torch.nn.Softmax()\n",
    "        )\n",
    "\n",
    "    def forward(self, X):\n",
    "        return self.layers(X)\n",
    "\n",
    "\n",
    "if __name__ == '__main__':\n",
    "    torchdset = ResizedDataset()\n",
    "    imagedsloader = DataLoader(torchdset, batch_size=10, shuffle=True)\n",
    "    model = CNN()\n",
    "    train(model)"
   ]
  },
  {
   "cell_type": "code",
   "execution_count": null,
   "metadata": {},
   "outputs": [],
   "source": []
  },
  {
   "cell_type": "code",
   "execution_count": null,
   "metadata": {},
   "outputs": [],
   "source": []
  }
 ],
 "metadata": {
  "interpreter": {
   "hash": "3d597f4c481aa0f25dceb95d2a0067e73c0966dcbd003d741d821a7208527ecf"
  },
  "kernelspec": {
   "display_name": "Python 3.9.7 ('base')",
   "language": "python",
   "name": "python3"
  },
  "language_info": {
   "codemirror_mode": {
    "name": "ipython",
    "version": 3
   },
   "file_extension": ".py",
   "mimetype": "text/x-python",
   "name": "python",
   "nbconvert_exporter": "python",
   "pygments_lexer": "ipython3",
   "version": "3.9.7"
  },
  "orig_nbformat": 4
 },
 "nbformat": 4,
 "nbformat_minor": 2
}
